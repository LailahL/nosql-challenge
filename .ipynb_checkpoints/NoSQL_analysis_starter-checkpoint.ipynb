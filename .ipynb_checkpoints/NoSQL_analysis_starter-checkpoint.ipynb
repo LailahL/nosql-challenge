{
 "cells": [
  {
   "cell_type": "markdown",
   "id": "31a5476c",
   "metadata": {},
   "source": [
    "# Eat Safe, Love"
   ]
  },
  {
   "cell_type": "markdown",
   "id": "1e00f53b",
   "metadata": {},
   "source": [
    "## Notebook Set Up"
   ]
  },
  {
   "cell_type": "code",
   "execution_count": 1,
   "id": "c1a940d8",
   "metadata": {},
   "outputs": [],
   "source": [
    "# Import dependencies\n",
    "from pymongo import MongoClient\n",
    "import pandas as pd\n",
    "from pprint import pprint"
   ]
  },
  {
   "cell_type": "code",
   "execution_count": 2,
   "id": "53f7c837",
   "metadata": {},
   "outputs": [],
   "source": [
    "# Create an instance of MongoClient\n",
    "mongo=MongoClient(port=27017)"
   ]
  },
  {
   "cell_type": "code",
   "execution_count": 3,
   "id": "339dfecd",
   "metadata": {},
   "outputs": [],
   "source": [
    "# assign the uk_food database to a variable name\n",
    "db=mongo['uk_food']"
   ]
  },
  {
   "cell_type": "code",
   "execution_count": 4,
   "id": "adc3395f",
   "metadata": {},
   "outputs": [
    {
     "name": "stdout",
     "output_type": "stream",
     "text": [
      "['establishments']\n"
     ]
    }
   ],
   "source": [
    "# review the collections in our database\n",
    "print(db.list_collection_names())"
   ]
  },
  {
   "cell_type": "code",
   "execution_count": 5,
   "id": "a63fc812",
   "metadata": {},
   "outputs": [],
   "source": [
    "# assign the collection to a variable\n",
    "establishments=db['establishments']\n"
   ]
  },
  {
   "cell_type": "markdown",
   "id": "0079bf0b",
   "metadata": {},
   "source": [
    "## Part 3: Exploratory Analysis\n",
    "Unless otherwise stated, for each question: \n",
    "* Use `count_documents` to display the number of documents contained in the result.\n",
    "* Display the first document in the results using `pprint`.\n",
    "* Convert the result to a Pandas DataFrame, print the number of rows in the DataFrame, and display the first 10 rows."
   ]
  },
  {
   "cell_type": "markdown",
   "id": "94aaf7fb",
   "metadata": {},
   "source": [
    "### 1. Which establishments have a hygiene score equal to 20?"
   ]
  },
  {
   "cell_type": "code",
   "execution_count": 6,
   "id": "8cfeb3ba",
   "metadata": {},
   "outputs": [
    {
     "name": "stdout",
     "output_type": "stream",
     "text": [
      "establishments with a hygiene score of 20:  41\n",
      "{'BusinessName': 'The Chase Rest Home',\n",
      " '_id': ObjectId('641a839e830ab488402fc767'),\n",
      " 'scores': {'Hygiene': 20}}\n"
     ]
    }
   ],
   "source": [
    "# Find the establishments with a hygiene score of 20\n",
    "\n",
    "query ={'scores.Hygiene': 20}\n",
    "field={'BusinessName':1,'scores.Hygiene':1}\n",
    "\n",
    "# Use count_documents to display the number of documents in the result\n",
    "result_count=establishments.count_documents(query)\n",
    "print('establishments with a hygiene score of 20: ',result_count)\n",
    "\n",
    "# Display the first document in the results using pprint\n",
    "result1=establishments.find(query,field)\n",
    "for i in range(1):\n",
    "    pprint(result1[i])"
   ]
  },
  {
   "cell_type": "code",
   "execution_count": 7,
   "id": "2920fbeb",
   "metadata": {},
   "outputs": [
    {
     "name": "stdout",
     "output_type": "stream",
     "text": [
      "Rows in DataFrame:  41\n"
     ]
    },
    {
     "data": {
      "text/html": [
       "<div>\n",
       "<style scoped>\n",
       "    .dataframe tbody tr th:only-of-type {\n",
       "        vertical-align: middle;\n",
       "    }\n",
       "\n",
       "    .dataframe tbody tr th {\n",
       "        vertical-align: top;\n",
       "    }\n",
       "\n",
       "    .dataframe thead th {\n",
       "        text-align: right;\n",
       "    }\n",
       "</style>\n",
       "<table border=\"1\" class=\"dataframe\">\n",
       "  <thead>\n",
       "    <tr style=\"text-align: right;\">\n",
       "      <th></th>\n",
       "      <th>BusinessName</th>\n",
       "      <th>scores</th>\n",
       "    </tr>\n",
       "  </thead>\n",
       "  <tbody>\n",
       "    <tr>\n",
       "      <th>0</th>\n",
       "      <td>The Chase Rest Home</td>\n",
       "      <td>{'Hygiene': 20}</td>\n",
       "    </tr>\n",
       "    <tr>\n",
       "      <th>1</th>\n",
       "      <td>Brenalwood</td>\n",
       "      <td>{'Hygiene': 20}</td>\n",
       "    </tr>\n",
       "    <tr>\n",
       "      <th>2</th>\n",
       "      <td>Melrose Hotel</td>\n",
       "      <td>{'Hygiene': 20}</td>\n",
       "    </tr>\n",
       "    <tr>\n",
       "      <th>3</th>\n",
       "      <td>Seaford Pizza</td>\n",
       "      <td>{'Hygiene': 20}</td>\n",
       "    </tr>\n",
       "    <tr>\n",
       "      <th>4</th>\n",
       "      <td>Golden Palace</td>\n",
       "      <td>{'Hygiene': 20}</td>\n",
       "    </tr>\n",
       "    <tr>\n",
       "      <th>5</th>\n",
       "      <td>Ashby's Butchers</td>\n",
       "      <td>{'Hygiene': 20}</td>\n",
       "    </tr>\n",
       "    <tr>\n",
       "      <th>6</th>\n",
       "      <td>South Sea Express Cuisine</td>\n",
       "      <td>{'Hygiene': 20}</td>\n",
       "    </tr>\n",
       "    <tr>\n",
       "      <th>7</th>\n",
       "      <td>Golden Palace</td>\n",
       "      <td>{'Hygiene': 20}</td>\n",
       "    </tr>\n",
       "    <tr>\n",
       "      <th>8</th>\n",
       "      <td>The Tulip Tree</td>\n",
       "      <td>{'Hygiene': 20}</td>\n",
       "    </tr>\n",
       "    <tr>\n",
       "      <th>9</th>\n",
       "      <td>F &amp; S</td>\n",
       "      <td>{'Hygiene': 20}</td>\n",
       "    </tr>\n",
       "  </tbody>\n",
       "</table>\n",
       "</div>"
      ],
      "text/plain": [
       "                BusinessName           scores\n",
       "0        The Chase Rest Home  {'Hygiene': 20}\n",
       "1                 Brenalwood  {'Hygiene': 20}\n",
       "2              Melrose Hotel  {'Hygiene': 20}\n",
       "3              Seaford Pizza  {'Hygiene': 20}\n",
       "4              Golden Palace  {'Hygiene': 20}\n",
       "5           Ashby's Butchers  {'Hygiene': 20}\n",
       "6  South Sea Express Cuisine  {'Hygiene': 20}\n",
       "7              Golden Palace  {'Hygiene': 20}\n",
       "8             The Tulip Tree  {'Hygiene': 20}\n",
       "9                      F & S  {'Hygiene': 20}"
      ]
     },
     "execution_count": 7,
     "metadata": {},
     "output_type": "execute_result"
    }
   ],
   "source": [
    "# Convert the result to a Pandas DataFrame\n",
    "\n",
    "results_df=pd.DataFrame(result1)\n",
    "\n",
    "\n",
    "# Display the number of rows in the DataFrame\n",
    "print(\"Rows in DataFrame: \", len(results_df))\n",
    "\n",
    "# Display the first 10 rows of the DataFrame\n",
    "\n",
    "\n",
    "results_df_cleaned=results_df[['BusinessName','scores']]\n",
    "results_df_cleaned.head(10)"
   ]
  },
  {
   "cell_type": "markdown",
   "id": "7a49d7eb",
   "metadata": {},
   "source": [
    "### 2. Which establishments in London have a `RatingValue` greater than or equal to 4?"
   ]
  },
  {
   "cell_type": "code",
   "execution_count": 8,
   "id": "246ab1a0",
   "metadata": {},
   "outputs": [
    {
     "name": "stdout",
     "output_type": "stream",
     "text": [
      "number of documents:  0\n"
     ]
    }
   ],
   "source": [
    "# Find the establishments with London as the Local Authority and has a RatingValue greater than or equal to 4.\n",
    "\n",
    "query ={'LocalAuthorityName':{'$regex':'London'},'RatingValue':{'$gte':4}}\n",
    "fields={'LocalAuthorityName':1,'RatingValue':1}\n",
    "\n",
    "\n",
    "# Use count_documents to display the number of documents in the result\n",
    "count_london=establishments.count_documents(query)                                       \n",
    "print('number of documents: ',count_london)\n",
    "# Display the first document in the results using pprint\n",
    "results_london=establishments.find(query,fields)\n",
    "for result_l in results_london:\n",
    "    pprint(results_london[0])"
   ]
  },
  {
   "cell_type": "code",
   "execution_count": 9,
   "id": "2258e5dc",
   "metadata": {},
   "outputs": [
    {
     "data": {
      "text/html": [
       "<div>\n",
       "<style scoped>\n",
       "    .dataframe tbody tr th:only-of-type {\n",
       "        vertical-align: middle;\n",
       "    }\n",
       "\n",
       "    .dataframe tbody tr th {\n",
       "        vertical-align: top;\n",
       "    }\n",
       "\n",
       "    .dataframe thead th {\n",
       "        text-align: right;\n",
       "    }\n",
       "</style>\n",
       "<table border=\"1\" class=\"dataframe\">\n",
       "  <thead>\n",
       "    <tr style=\"text-align: right;\">\n",
       "      <th></th>\n",
       "    </tr>\n",
       "  </thead>\n",
       "  <tbody>\n",
       "  </tbody>\n",
       "</table>\n",
       "</div>"
      ],
      "text/plain": [
       "Empty DataFrame\n",
       "Columns: []\n",
       "Index: []"
      ]
     },
     "execution_count": 9,
     "metadata": {},
     "output_type": "execute_result"
    }
   ],
   "source": [
    "# Convert the result to a Pandas DataFrame\n",
    "london_df=pd.DataFrame(results_london)\n",
    "\n",
    "\n",
    "# Display the number of rows in the DataFrame\n",
    "len(london_df)\n",
    "# Display the first 10 rows of the DataFrame\n",
    "london_df.head(10)"
   ]
  },
  {
   "cell_type": "markdown",
   "id": "17733179",
   "metadata": {},
   "source": [
    "### 3. What are the top 5 establishments with a `RatingValue` rating value of '5', sorted by lowest hygiene score, nearest to the new restaurant added, \"Penang Flavours\"?"
   ]
  },
  {
   "cell_type": "code",
   "execution_count": 10,
   "id": "146f4ddd",
   "metadata": {},
   "outputs": [
    {
     "name": "stdout",
     "output_type": "stream",
     "text": [
      "[]\n"
     ]
    }
   ],
   "source": [
    "# Search within 0.01 degree on either side of the latitude and longitude.\n",
    "# Rating value must equal 5\n",
    "# Sort by hygiene score\n",
    "\n",
    "degree_search = 0.01\n",
    "latitude = {'$gte': (51.490142 - degree_search) ,'$lte': (51.490142 + degree_search)} \n",
    "longitude = {'$gte': (0.08384 - degree_search) ,'$lte': (0.08384 + degree_search)}\n",
    "\n",
    "query = {'geocode.latitude':latitude,'geocode.latitude':longitude,'RatingValue':5}\n",
    "sort =  [('scores.Hygiene',1)]\n",
    "limit=5\n",
    "\n",
    "# Print the results\n",
    "\n",
    "near_penang= list(establishments.find(query).sort(sort).limit(limit))\n",
    "pprint(near_penang)\n"
   ]
  },
  {
   "cell_type": "code",
   "execution_count": 11,
   "id": "f593204b",
   "metadata": {},
   "outputs": [
    {
     "data": {
      "text/plain": [
       "[]"
      ]
     },
     "execution_count": 11,
     "metadata": {},
     "output_type": "execute_result"
    }
   ],
   "source": [
    "# Convert result to Pandas DataFrame\n",
    "near_penang_df=pd.DataFrame(near_penang)\n",
    "near_penang"
   ]
  },
  {
   "cell_type": "markdown",
   "id": "0ddfc163",
   "metadata": {},
   "source": [
    "### 4. How many establishments in each Local Authority area have a hygiene score of 0?"
   ]
  },
  {
   "cell_type": "code",
   "execution_count": 13,
   "id": "b7b7f5de",
   "metadata": {},
   "outputs": [
    {
     "ename": "SyntaxError",
     "evalue": "invalid syntax (1587755206.py, line 19)",
     "output_type": "error",
     "traceback": [
      "\u001b[1;36m  File \u001b[1;32m\"C:\\Users\\laila\\AppData\\Local\\Temp\\ipykernel_8596\\1587755206.py\"\u001b[1;36m, line \u001b[1;32m19\u001b[0m\n\u001b[1;33m    for i in range(10):\u001b[0m\n\u001b[1;37m                      ^\u001b[0m\n\u001b[1;31mSyntaxError\u001b[0m\u001b[1;31m:\u001b[0m invalid syntax\n"
     ]
    }
   ],
   "source": [
    "# Create a pipeline that: \n",
    "# 1. Matches establishments with a hygiene score of 0\n",
    "match_query={'$match':{'score.Hygiene':0}}\n",
    "\n",
    "# 2. Groups the matches by Local Authority\n",
    "query={'$group':{'LocalAuthorityName':'$LocalAuthorityName','count': { '$sum': 1 }}}\n",
    "\n",
    "# 3. Sorts the matches from highest to lowest\n",
    "sort={'$sort': {'count':-1}}\n",
    "\n",
    "pipeline=[match_query,query,sort]\n",
    "\n",
    "# Print the number of documents in the result\n",
    "re=list(establishments.aggregate(pipeline)\n",
    "        \n",
    "# print(\"Number of documents in result: \", len(re))\n",
    "        \n",
    "# Print the first 10 results\n",
    "for i in range(10):\n",
    "        pprint(re[i])"
   ]
  },
  {
   "cell_type": "code",
   "execution_count": 14,
   "id": "9e17e6d0",
   "metadata": {},
   "outputs": [
    {
     "ename": "NameError",
     "evalue": "name 're' is not defined",
     "output_type": "error",
     "traceback": [
      "\u001b[1;31m---------------------------------------------------------------------------\u001b[0m",
      "\u001b[1;31mNameError\u001b[0m                                 Traceback (most recent call last)",
      "\u001b[1;32m~\\AppData\\Local\\Temp\\ipykernel_8596\\2077384255.py\u001b[0m in \u001b[0;36m<module>\u001b[1;34m\u001b[0m\n\u001b[0;32m      1\u001b[0m \u001b[1;31m# Convert the result to a Pandas DataFrame\u001b[0m\u001b[1;33m\u001b[0m\u001b[1;33m\u001b[0m\u001b[1;33m\u001b[0m\u001b[0m\n\u001b[0;32m      2\u001b[0m \u001b[1;33m\u001b[0m\u001b[0m\n\u001b[1;32m----> 3\u001b[1;33m \u001b[0mno_hygiene_df\u001b[0m\u001b[1;33m=\u001b[0m\u001b[0mpd\u001b[0m\u001b[1;33m.\u001b[0m\u001b[0mDataFrame\u001b[0m\u001b[1;33m(\u001b[0m\u001b[0mre\u001b[0m\u001b[1;33m)\u001b[0m\u001b[1;33m\u001b[0m\u001b[1;33m\u001b[0m\u001b[0m\n\u001b[0m\u001b[0;32m      4\u001b[0m \u001b[1;33m\u001b[0m\u001b[0m\n\u001b[0;32m      5\u001b[0m \u001b[1;31m# Display the number of rows in the DataFrame\u001b[0m\u001b[1;33m\u001b[0m\u001b[1;33m\u001b[0m\u001b[1;33m\u001b[0m\u001b[0m\n",
      "\u001b[1;31mNameError\u001b[0m: name 're' is not defined"
     ]
    }
   ],
   "source": [
    "# Convert the result to a Pandas DataFrame\n",
    "\n",
    "no_hygiene_df=pd.DataFrame(re)\n",
    "\n",
    "# Display the number of rows in the DataFrame\n",
    "nh_rows=len(no_hygiene_df)\n",
    "nh_rows\n",
    "\n",
    "# Display the first 10 rows of the DataFrame\n",
    "no_hygiene_df.head(10)"
   ]
  }
 ],
 "metadata": {
  "kernelspec": {
   "display_name": "Python 3 (ipykernel)",
   "language": "python",
   "name": "python3"
  },
  "language_info": {
   "codemirror_mode": {
    "name": "ipython",
    "version": 3
   },
   "file_extension": ".py",
   "mimetype": "text/x-python",
   "name": "python",
   "nbconvert_exporter": "python",
   "pygments_lexer": "ipython3",
   "version": "3.7.7"
  }
 },
 "nbformat": 4,
 "nbformat_minor": 5
}
